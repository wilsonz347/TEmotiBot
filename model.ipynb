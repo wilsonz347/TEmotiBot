{
 "cells": [
  {
   "cell_type": "code",
   "id": "initial_id",
   "metadata": {
    "collapsed": true
   },
   "source": [
    "import pandas as pd\n",
    "import json\n",
    "import plotly.graph_objects as go\n",
    "from sklearn.model_selection import train_test_split\n",
    "import spacy\n",
    "import numpy as np\n",
    "import tensorflow as tf\n",
    "from sklearn.preprocessing import LabelEncoder\n",
    "from sklearn.metrics import classification_report, accuracy_score"
   ],
   "outputs": [],
   "execution_count": null
  },
  {
   "metadata": {},
   "cell_type": "code",
   "source": [
    "with open('intents.json', 'r') as file:\n",
    "    data = json.load(file)"
   ],
   "id": "6145eeb3753bc6b4",
   "outputs": [],
   "execution_count": null
  },
  {
   "metadata": {},
   "cell_type": "code",
   "source": [
    "intents = data['intents']\n",
    "\n",
    "rows = []\n",
    "\n",
    "for intent in intents:\n",
    "    tag = intent['tag']\n",
    "    patterns = intent['patterns']\n",
    "    responses = intent['responses']\n",
    "    \n",
    "    for pattern, response in zip(patterns, responses):\n",
    "        rows.append({'tag': tag, 'pattern': pattern, 'response': response})\n",
    "\n",
    "df = pd.DataFrame(rows)"
   ],
   "id": "8d1fc01a5b0b6f43",
   "outputs": [],
   "execution_count": null
  },
  {
   "metadata": {},
   "cell_type": "code",
   "source": "df.head()",
   "id": "3fd79ec8ecb98c87",
   "outputs": [],
   "execution_count": null
  },
  {
   "metadata": {},
   "cell_type": "code",
   "source": "df.info()",
   "id": "a5f7175e7d38128b",
   "outputs": [],
   "execution_count": null
  },
  {
   "metadata": {},
   "cell_type": "code",
   "source": [
    "print(\"Null Values:\", df.isnull().sum())\n",
    "print(\"Duplicate Values:\", df.duplicated().sum())"
   ],
   "id": "9347c38f3607298c",
   "outputs": [],
   "execution_count": null
  },
  {
   "metadata": {},
   "cell_type": "code",
   "source": [
    "labels = df['tag'].unique()\n",
    "values = df['tag'].value_counts().tolist()\n",
    "\n",
    "fig = go.Figure(data=[go.Bar(x=labels, y=values)])\n",
    "fig.update_layout(title_text='Intent Distribution')\n",
    "fig.show()"
   ],
   "id": "dfbf29160da6affd",
   "outputs": [],
   "execution_count": null
  },
  {
   "metadata": {},
   "cell_type": "markdown",
   "source": "### Preprocessing",
   "id": "a046e898bc9da9f"
  },
  {
   "metadata": {},
   "cell_type": "code",
   "source": [
    "nlp = spacy.load(\"en_core_web_sm\")\n",
    "\n",
    "def spacy_tokenize(text):\n",
    "    doc = nlp(text)\n",
    "    new_text = [token.text.lower() for token in doc]\n",
    "    return \" \".join(new_text)\n",
    "\n",
    "df['pattern'] = df['pattern'].apply(spacy_tokenize)"
   ],
   "id": "a0e77258ed9ea0e6",
   "outputs": [],
   "execution_count": null
  },
  {
   "metadata": {},
   "cell_type": "code",
   "source": "df",
   "id": "c9302c8f84ae6166",
   "outputs": [],
   "execution_count": null
  },
  {
   "metadata": {},
   "cell_type": "code",
   "source": [
    "pd.set_option('display.max_rows', None)  \n",
    "tag_counts = df['tag'].value_counts()\n",
    "print(tag_counts)\n",
    "pd.reset_option('display.max_rows')  "
   ],
   "id": "bf190cf9b8fb6187",
   "outputs": [],
   "execution_count": null
  },
  {
   "metadata": {},
   "cell_type": "code",
   "source": [
    "for tag in df['tag'].unique():\n",
    "    count = (df['tag'] == tag).sum()\n",
    "    if count < 3:\n",
    "        df = pd.concat([df, df[df['tag'] == tag]], ignore_index=True)\n",
    "\n",
    "tag_counts = df['tag'].value_counts()\n",
    "print(tag_counts)"
   ],
   "id": "e442daba9531b204",
   "outputs": [],
   "execution_count": null
  },
  {
   "metadata": {},
   "cell_type": "code",
   "source": "",
   "id": "d55651f62a71bfea",
   "outputs": [],
   "execution_count": null
  }
 ],
 "metadata": {
  "kernelspec": {
   "display_name": "Python 3",
   "language": "python",
   "name": "python3"
  },
  "language_info": {
   "codemirror_mode": {
    "name": "ipython",
    "version": 2
   },
   "file_extension": ".py",
   "mimetype": "text/x-python",
   "name": "python",
   "nbconvert_exporter": "python",
   "pygments_lexer": "ipython2",
   "version": "2.7.6"
  }
 },
 "nbformat": 4,
 "nbformat_minor": 5
}
